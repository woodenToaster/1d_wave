{
 "cells": [
  {
   "cell_type": "markdown",
   "metadata": {},
   "source": [
    "# Solving a Discretized Wave Equation in 1d with Absorbing Boundary Layers\n",
    "_Disclaimer: Everything I know about PDEs and the finite difference method I learned this weekend_."
   ]
  },
  {
   "cell_type": "markdown",
   "metadata": {},
   "source": [
    "$$\\varepsilon_n(i\\omega - \\sigma_n)^2E_n-\\frac{E_{n+1}+E_{n-1}-2E_n}{\\Delta x^2}-\\frac{E_{n+1}-E_{n-1}}{2\\Delta x}\\frac{\\sigma_x}{i\\omega-\\sigma_n}=(i\\omega-\\sigma_n)J_n $$"
   ]
  },
  {
   "cell_type": "markdown",
   "metadata": {},
   "source": [
    "## Strategy\n",
    "Combine like terms to get an equation of the form $aE_n+bE_{n+1}+cE_{n-1}=J_n$. Then create a finite-difference operator $D$ (N x N matrix) from $a$, $b$, and $c$ having the form"
   ]
  },
  {
   "cell_type": "code",
   "execution_count": null,
   "metadata": {
    "collapsed": true
   },
   "outputs": [],
   "source": [
    "a  b  0  0  0  0 ... 0\n",
    "c  a  b  0  0  0 ... 0\n",
    "0  c  a  b  0  0 ... 0\n",
    "0  0                 .\n",
    ".  .     .           .\n",
    ".  .       .         .\n",
    ".  .         .       b\n",
    "0  0 ...          c  a"
   ]
  },
  {
   "cell_type": "markdown",
   "metadata": {},
   "source": [
    "Next, solve for $E$ by $E=D^{-1}J$."
   ]
  },
  {
   "cell_type": "markdown",
   "metadata": {},
   "source": [
    "## Initial Attempt\n",
    "Using the strategy above, I came up the the solution below. However, upon further inspection I realized a had made some incorrect assumptions and algebraic errors."
   ]
  },
  {
   "cell_type": "code",
   "execution_count": 6,
   "metadata": {
    "collapsed": false
   },
   "outputs": [
    {
     "data": {
      "image/png": "[encoded data removed]",
      "text/plain": [
       "<matplotlib.figure.Figure at 0x7fba8dbb4610>"
      ]
     },
     "metadata": {},
     "output_type": "display_data"
    }
   ],
   "source": [
    "import numpy as np\n",
    "import matplotlib.pyplot as plt\n",
    "from scipy.sparse import diags\n",
    "\n",
    "N = 12\n",
    "\n",
    "def plot(e):\n",
    "    plt.plot(e)\n",
    "    plt.ylabel('E(x)')\n",
    "    plt.xlabel('x')\n",
    "    plt.show()\n",
    "\n",
    "j = np.zeros((N + 1, 1))\n",
    "j[N // 2] = 1\n",
    "\n",
    "a = np.array([-4 * np.pi**2 + 0.02] * (N + 1))\n",
    "b = np.array([-0.01] * N)\n",
    "\n",
    "data = [a.tolist(), b.tolist(), b.tolist()]\n",
    "D = diags(data, [0, 1, -1], (N + 1, N + 1))\n",
    "# TODO: fix intial and final rows\n",
    "D = np.matrix(D.toarray())\n",
    "e = D.I * j\n",
    "plot(e)"
   ]
  },
  {
   "cell_type": "markdown",
   "metadata": {},
   "source": [
    "## The grid (computational cell)"
   ]
  },
  {
   "cell_type": "code",
   "execution_count": null,
   "metadata": {
    "collapsed": true
   },
   "outputs": [],
   "source": [
    "Left PML                                Right PML\n",
    "|---|                                   |---|\n",
    "J(1)=0       ...    J(60)=1       ...       J(120)=0\n",
    "u=1 u=0             ...                 u=0 u=1 \n",
    "|---|---|---|---|---|---|---|---|---|---|---|\n",
    "x=10      ...       x=60         ...        x=120\n",
    "n=1       ...       n=6          ...        n=12"
   ]
  },
  {
   "cell_type": "markdown",
   "metadata": {},
   "source": [
    "The left and rightmost points represent the boundaries where $E=0$. This means the main computation will be from $n=2$ to $n=11$, i.e., throught the non-PML region. That way we will have values for $E_1$ and $E_{12}$. "
   ]
  },
  {
   "cell_type": "markdown",
   "metadata": {},
   "source": [
    "## Coefficient for $E_n$ after combining like terms\n",
    "$$[\\frac{(i\\omega-\\sigma_n)(100(i\\omega-\\sigma_n)^2+2)}{100(i\\omega -\\sigma_n)^2}]E_n$$\n",
    "### When $n=1$ or $n=12$\n",
    "Since $\\sigma_n=12$ on the boundaries where $u=1$ and $0$ everywhere else, this becomes \n",
    "$$\\frac{2+100(-12+2i\\pi)^2}{100(-12+2i\\pi)}$$ or $$\\frac{(14402 - 4\\pi^2)-4800\\pi{i}}{-120+200\\pi{i}}$$\n",
    "### When $n=2..11$\n",
    "$$2i\\pi - \\frac{0.01i\\pi}{\\pi^2}$$\n",
    "## The main diagonal of D\n",
    "I've probably done something wrong here because I doubt the real part of the main iterations should be 0. I assume there's some property of complex numbers I'm not aware of. "
   ]
  },
  {
   "cell_type": "code",
   "execution_count": 13,
   "metadata": {
    "collapsed": false
   },
   "outputs": [
    {
     "name": "stdout",
     "output_type": "stream",
     "text": [
      "[-27.3674386-17.63186729j   0.0000000 +6.28000221j   0.0000000 +6.28000221j\n",
      "   0.0000000 +6.28000221j   0.0000000 +6.28000221j   0.0000000 +6.28000221j\n",
      "   0.0000000 +6.28000221j   0.0000000 +6.28000221j   0.0000000 +6.28000221j\n",
      "   0.0000000 +6.28000221j   0.0000000 +6.28000221j -27.3674386-17.63186729j]\n"
     ]
    }
   ],
   "source": [
    "En_coef_pml = np.complex(14402 - 4 * np.pi**2, -4800 * np.pi) / np.complex(-120, 200 * np.pi)\n",
    "En_coef_non_pml = np.complex(0, 2 * np.pi - (0.01 * np.pi) / np.pi**2)\n",
    "E_n_diag = np.empty(N, dtype=np.complex)\n",
    "E_n.fill(En_coef_non_pml)\n",
    "E_n_diag[0] = E_n_diag[-1] = En_coef_pml\n",
    "print(E_n_diag)"
   ]
  },
  {
   "cell_type": "markdown",
   "metadata": {},
   "source": [
    "## Coefficient for $E_{n+1}$ after combing like terms\n",
    "I had trouble figuring out what to do with $\\sigma_x$. I had three choices:\n",
    "* Assume $\\sigma_x=0$ because $\\sigma$ only depends on $u$. I was confused by the \"quadratic turn on.\"\n",
    "* Substitute a finite-difference for $\\sigma_x$.\n",
    "* Treat $\\sigma$ as a piecewise function where $\\sigma(x)=12x^2$ at $x=1,12$ and $0$ everywhere else.\n",
    "\n",
    "Choosing the first option gives me $$[\\frac{-1}{200\\pi{i}}]E_{n+1}$$, which has no real part.\n",
    "\n",
    "Choosing the second option gives $$[\\frac{-4(i\\omega-\\sigma_n)-\\sigma_{n+1}+\\sigma_{n-1}}{4\\Delta{x}^2(i\\omega-\\sigma_n)^2}]E_{n+1}$$ and $$[\\frac{-4(i\\omega-\\sigma_n)+\\sigma_{n+1}-\\sigma_{n-1}}{4\\Delta{x}^2(i\\omega-\\sigma_n)^2}]E_{n-1}$$\n",
    "### When $n=12$\n",
    "$$\\frac{.48-.08\\pi{i}}{(144-4\\pi^2)-48\\pi{i}}$$\n",
    "### When $n=1$ for $E_{n+1}$\n",
    "$$\\frac{.6-.08\\pi{i}}{(144-4\\pi^2)-48\\pi{i}}$$\n",
    "### When $n=1$ for $E_{n-1}$\n",
    "$$\\frac{.36-.08\\pi{i}}{(144-4\\pi^2)-48\\pi{i}}$$\n",
    "### When $n=3..10$\n",
    "$$\\frac{\\pi{i}}{200\\pi^2}$$\n",
    "This is also a dead end. If I could get the coefficients for $E$, I would proceed like I did in the initial attempt to solve for and plot $E$."
   ]
  },
  {
   "cell_type": "markdown",
   "metadata": {},
   "source": [
    "$J_n=1$ at the middle of the computational cell and zero everywhere else. It would have been more convenient if $N=13$ so that there would be an exact middle. I went back and forth between $N=12$ and $N=13$. "
   ]
  },
  {
   "cell_type": "code",
   "execution_count": 31,
   "metadata": {
    "collapsed": false
   },
   "outputs": [
    {
     "name": "stdout",
     "output_type": "stream",
     "text": [
      "[ 0.  0.  0.  0.  0.  1.  0.  0.  0.  0.  0.  0.]\n"
     ]
    }
   ],
   "source": [
    "j = np.zeros(N)\n",
    "j[(N - 1) / 2] = 1\n",
    "print(j)"
   ]
  },
  {
   "cell_type": "markdown",
   "metadata": {},
   "source": [
    "$\\sigma_n=12$ on the boundaries where $u=1$ and $0$ everywhere else. "
   ]
  },
  {
   "cell_type": "code",
   "execution_count": 29,
   "metadata": {
    "collapsed": false
   },
   "outputs": [
    {
     "name": "stdout",
     "output_type": "stream",
     "text": [
      "[ 12.   0.   0.   0.   0.   0.   0.   0.   0.   0.   0.  12.]\n"
     ]
    }
   ],
   "source": [
    "sigma = np.zeros(N)\n",
    "sigma[0] = sigma[-1] = 12\n",
    "print(sigma)"
   ]
  },
  {
   "cell_type": "markdown",
   "metadata": {},
   "source": [
    "## Performance\n",
    "Since I was unable to obtain the correct solution, I did not have an opportunity to optimize for performance. However, my general strategy would have been to ensure as many operations were vectorized as possible, keep data copying to a minimum, and then try techniques like using Cython or Numba. "
   ]
  },
  {
   "cell_type": "markdown",
   "metadata": {},
   "source": [
    "## Final Thoughts\n",
    "This was a challenging exercise for me and I learned a lot about PDEs, the finite difference method, and wave equations. I would be very interested in seeing the solution. Thanks for the opportunity."
   ]
  }
 ],
 "metadata": {
  "kernelspec": {
   "display_name": "Python 2",
   "language": "python",
   "name": "python2"
  },
  "language_info": {
   "codemirror_mode": {
    "name": "ipython",
    "version": 2
   },
   "file_extension": ".py",
   "mimetype": "text/x-python",
   "name": "python",
   "nbconvert_exporter": "python",
   "pygments_lexer": "ipython2",
   "version": "2.7.12"
  }
 },
 "nbformat": 4,
 "nbformat_minor": 2
}
