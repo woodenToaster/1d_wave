{
 "cells": [
  {
   "cell_type": "markdown",
   "metadata": {},
   "source": [
    "# Solving a Discretized Wave Equation in 1d with Absorbing Boundary Layers\n",
    "_Disclaimer: Everything I know about PDEs and the finite difference method I learned this weekend_."
   ]
  },
  {
   "cell_type": "markdown",
   "metadata": {},
   "source": [
    "$$\\varepsilon_n(i\\omega - \\sigma_n)^2E_n-\\frac{E_{n+1}+E_{n-1}-2E_n}{\\Delta x^2}-\\frac{E_{n+1}-E_{n-1}}{2\\Delta x}\\frac{\\sigma_x}{i\\omega-\\sigma_n}=(i\\omega-\\sigma_n)J_n $$"
   ]
  },
  {
   "cell_type": "markdown",
   "metadata": {},
   "source": [
    "## Strategy\n",
    "Combine like terms to get an equation of the form $aE_n+bE_{n+1}+cE_{n-1}=J_n$. Then create a finite-difference operator $D$ (N x N matrix) from $a$, $b$, and $c$ having the form"
   ]
  },
  {
   "cell_type": "raw",
   "metadata": {},
   "source": [
    "a  b  0  0  0  0 ... 0\n",
    "c  a  b  0  0  0 ... 0\n",
    "0  c  a  b  0  0 ... 0\n",
    "0  0                 .\n",
    ".  .     .           .\n",
    ".  .       .         .\n",
    ".  .         .       b\n",
    "0  0 ...          c  a"
   ]
  },
  {
   "cell_type": "markdown",
   "metadata": {},
   "source": [
    "Next, solve for $E$ by $E=D^{-1}J$."
   ]
  },
  {
   "cell_type": "markdown",
   "metadata": {},
   "source": [
    "## The grid (computational cell)"
   ]
  },
  {
   "cell_type": "raw",
   "metadata": {},
   "source": [
    "Left PML                                Right PML\n",
    "|---|                                   |---|\n",
    "J(1)=0       ...    J(60)=1       ...       J(120)=0\n",
    "u=1 u=0             ...                 u=0 u=1 \n",
    "|---|---|---|---|---|---|---|---|---|---|---|\n",
    "x=10      ...       x=60         ...        x=120\n",
    "n=1       ...       n=6          ...        n=12"
   ]
  },
  {
   "cell_type": "code",
   "execution_count": 30,
   "metadata": {
    "collapsed": true
   },
   "outputs": [],
   "source": [
    "import numpy as np\n",
    "import matplotlib.pyplot as plt\n",
    "\n",
    "N = 12\n",
    "resolution = 10\n",
    "omega = 2 * np.pi"
   ]
  },
  {
   "cell_type": "markdown",
   "metadata": {},
   "source": [
    "## Coefficient for $E_n$ after combing like terms\n",
    "$$[\\frac{(i\\omega-\\sigma_n)(100(i\\omega-\\sigma_n)^2+2)}{100(i\\omega -\\sigma_n)^2}]E_n$$\n",
    "### When $n=1$ or $n=N$\n",
    "$$\\frac{2+100(-12+2i\\pi)^2}{100(-12+2i\\pi)}$$\n",
    "### When $n=2..12$\n",
    "$$2i\\pi - \\frac{0.01i\\pi}{\\pi^2}$$"
   ]
  },
  {
   "cell_type": "code",
   "execution_count": 33,
   "metadata": {
    "collapsed": false
   },
   "outputs": [
    {
     "name": "stderr",
     "output_type": "stream",
     "text": [
      "/home/chris/miniconda2/envs/simpetus/lib/python2.7/site-packages/ipykernel/__main__.py:5: ComplexWarning: Casting complex values to real discards the imaginary part\n"
     ]
    },
    {
     "ename": "TypeError",
     "evalue": "can't convert complex to float",
     "output_type": "error",
     "traceback": [
      "\u001b[0;31m---------------------------------------------------------------------------\u001b[0m",
      "\u001b[0;31mTypeError\u001b[0m                                 Traceback (most recent call last)",
      "\u001b[0;32m<ipython-input-33-df7febc960c4>\u001b[0m in \u001b[0;36m<module>\u001b[0;34m()\u001b[0m\n\u001b[1;32m      4\u001b[0m \u001b[0mE_n\u001b[0m \u001b[0;34m=\u001b[0m \u001b[0mnp\u001b[0m\u001b[0;34m.\u001b[0m\u001b[0mempty\u001b[0m\u001b[0;34m(\u001b[0m\u001b[0mN\u001b[0m\u001b[0;34m)\u001b[0m\u001b[0;34m\u001b[0m\u001b[0m\n\u001b[1;32m      5\u001b[0m \u001b[0mE_n\u001b[0m\u001b[0;34m.\u001b[0m\u001b[0mfill\u001b[0m\u001b[0;34m(\u001b[0m\u001b[0mEn_coef2\u001b[0m\u001b[0;34m)\u001b[0m\u001b[0;34m\u001b[0m\u001b[0m\n\u001b[0;32m----> 6\u001b[0;31m \u001b[0mE_n\u001b[0m\u001b[0;34m[\u001b[0m\u001b[0;36m0\u001b[0m\u001b[0;34m]\u001b[0m \u001b[0;34m=\u001b[0m \u001b[0mE_n\u001b[0m\u001b[0;34m[\u001b[0m\u001b[0;34m-\u001b[0m\u001b[0;36m1\u001b[0m\u001b[0;34m]\u001b[0m \u001b[0;34m=\u001b[0m \u001b[0mEn_coef1\u001b[0m\u001b[0;34m\u001b[0m\u001b[0m\n\u001b[0m",
      "\u001b[0;31mTypeError\u001b[0m: can't convert complex to float"
     ]
    }
   ],
   "source": [
    "res1 = np.complex(-12, 2 * np.pi)\n",
    "En_coef1 = (2 + 100 * res1**2) / (100 * res1)\n",
    "En_coef2 = 2 * 1j * np.pi - ((0.01 * np.pi+1j) / (np.pi**2))\n",
    "E_n = np.empty(N)\n",
    "E_n.fill(En_coef2)\n",
    "E_n[0] = E_n[-1] = En_coef1"
   ]
  },
  {
   "cell_type": "markdown",
   "metadata": {},
   "source": [
    "## Coefficient for $E_{n+1}$ after combing like terms\n",
    "### When $n=1$\n",
    "### When $n=2..12$\n",
    "### When $n=N$"
   ]
  },
  {
   "cell_type": "markdown",
   "metadata": {},
   "source": [
    "## Coefficient for $E_{n-1}$ after combing like terms\n",
    "### When $n=1$\n",
    "### When $n=2..12$\n",
    "### When $n=N$"
   ]
  },
  {
   "cell_type": "markdown",
   "metadata": {},
   "source": []
  },
  {
   "cell_type": "markdown",
   "metadata": {},
   "source": [
    "$J_n=1$ at the middle of the computational cell and zero everywhere else."
   ]
  },
  {
   "cell_type": "code",
   "execution_count": 31,
   "metadata": {
    "collapsed": false
   },
   "outputs": [
    {
     "name": "stdout",
     "output_type": "stream",
     "text": [
      "[ 0.  0.  0.  0.  0.  1.  0.  0.  0.  0.  0.  0.]\n"
     ]
    }
   ],
   "source": [
    "j = np.zeros(N)\n",
    "j[(N - 1) / 2] = 1\n",
    "print(j)"
   ]
  },
  {
   "cell_type": "markdown",
   "metadata": {},
   "source": [
    "$\\sigma_n=12$ on the boundaries where $u=1$ and $0$ everywhere else. "
   ]
  },
  {
   "cell_type": "code",
   "execution_count": 29,
   "metadata": {
    "collapsed": false
   },
   "outputs": [
    {
     "name": "stdout",
     "output_type": "stream",
     "text": [
      "[ 12.   0.   0.   0.   0.   0.   0.   0.   0.   0.   0.  12.]\n"
     ]
    }
   ],
   "source": [
    "sigma = np.zeros(N)\n",
    "sigma[0] = sigma[-1] = 12\n",
    "print(sigma)"
   ]
  }
 ],
 "metadata": {
  "kernelspec": {
   "display_name": "Python 2",
   "language": "python",
   "name": "python2"
  },
  "language_info": {
   "codemirror_mode": {
    "name": "ipython",
    "version": 2
   },
   "file_extension": ".py",
   "mimetype": "text/x-python",
   "name": "python",
   "nbconvert_exporter": "python",
   "pygments_lexer": "ipython2",
   "version": "2.7.12"
  }
 },
 "nbformat": 4,
 "nbformat_minor": 2
}
